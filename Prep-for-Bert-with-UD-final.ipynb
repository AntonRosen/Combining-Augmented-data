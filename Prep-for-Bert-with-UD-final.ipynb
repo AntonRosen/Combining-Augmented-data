{
 "cells": [
  {
   "cell_type": "code",
   "execution_count": 2,
   "id": "159d9023",
   "metadata": {},
   "outputs": [],
   "source": [
    "import pandas as pd\n",
    "import numpy as np\n",
    "from sklearn.preprocessing import LabelEncoder"
   ]
  },
  {
   "cell_type": "code",
   "execution_count": 3,
   "id": "05e00e7f",
   "metadata": {},
   "outputs": [],
   "source": [
    "df1 = pd.read_csv(\"df-for-bert.csv\")\n",
    "df2 = pd.read_csv(\"df-for-bert-with-UD.csv\")"
   ]
  },
  {
   "cell_type": "code",
   "execution_count": 4,
   "id": "166165b5",
   "metadata": {},
   "outputs": [],
   "source": [
    "df2 = df2[df2['Labels'] != 0]"
   ]
  },
  {
   "cell_type": "code",
   "execution_count": 5,
   "id": "d30746d9",
   "metadata": {},
   "outputs": [
    {
     "name": "stderr",
     "output_type": "stream",
     "text": [
      "C:\\Users\\anton\\AppData\\Local\\Temp/ipykernel_18916/2460593677.py:1: FutureWarning: In a future version of pandas all arguments of DataFrame.drop except for the argument 'labels' will be keyword-only.\n",
      "  df1 = df1.drop('Unnamed: 0', 1)\n"
     ]
    }
   ],
   "source": [
    "df1 = df1.drop('Unnamed: 0', 1)"
   ]
  },
  {
   "cell_type": "code",
   "execution_count": 6,
   "id": "8026b8f5",
   "metadata": {},
   "outputs": [],
   "source": [
    "df2['Labels'].replace({1:2}, inplace=True)"
   ]
  },
  {
   "cell_type": "code",
   "execution_count": 7,
   "id": "1135c7a6",
   "metadata": {},
   "outputs": [
    {
     "data": {
      "text/html": [
       "<div>\n",
       "<style scoped>\n",
       "    .dataframe tbody tr th:only-of-type {\n",
       "        vertical-align: middle;\n",
       "    }\n",
       "\n",
       "    .dataframe tbody tr th {\n",
       "        vertical-align: top;\n",
       "    }\n",
       "\n",
       "    .dataframe thead th {\n",
       "        text-align: right;\n",
       "    }\n",
       "</style>\n",
       "<table border=\"1\" class=\"dataframe\">\n",
       "  <thead>\n",
       "    <tr style=\"text-align: right;\">\n",
       "      <th></th>\n",
       "      <th>Unnamed: 0</th>\n",
       "      <th>n</th>\n",
       "      <th>Labels</th>\n",
       "      <th>comment_text</th>\n",
       "    </tr>\n",
       "  </thead>\n",
       "  <tbody>\n",
       "    <tr>\n",
       "      <th>5</th>\n",
       "      <td>5789</td>\n",
       "      <td>NaN</td>\n",
       "      <td>2</td>\n",
       "      <td>99 Och stadsplaneringen verkar sega efter rejä...</td>\n",
       "    </tr>\n",
       "    <tr>\n",
       "      <th>7</th>\n",
       "      <td>5965</td>\n",
       "      <td>NaN</td>\n",
       "      <td>2</td>\n",
       "      <td>png mercedes benz på chaasinr wdbl meter i tjä...</td>\n",
       "    </tr>\n",
       "    <tr>\n",
       "      <th>9</th>\n",
       "      <td>4943</td>\n",
       "      <td>NaN</td>\n",
       "      <td>2</td>\n",
       "      <td>du kan citera mig i framtiden eftersom det kom...</td>\n",
       "    </tr>\n",
       "    <tr>\n",
       "      <th>19</th>\n",
       "      <td>5491</td>\n",
       "      <td>NaN</td>\n",
       "      <td>2</td>\n",
       "      <td>fjäder i hatten för Sverige det här ska de int...</td>\n",
       "    </tr>\n",
       "    <tr>\n",
       "      <th>24</th>\n",
       "      <td>132</td>\n",
       "      <td>62.0</td>\n",
       "      <td>2</td>\n",
       "      <td>hur kan man tro att det varit en olyckshändels...</td>\n",
       "    </tr>\n",
       "    <tr>\n",
       "      <th>...</th>\n",
       "      <td>...</td>\n",
       "      <td>...</td>\n",
       "      <td>...</td>\n",
       "      <td>...</td>\n",
       "    </tr>\n",
       "    <tr>\n",
       "      <th>6216</th>\n",
       "      <td>466</td>\n",
       "      <td>59.0</td>\n",
       "      <td>2</td>\n",
       "      <td>frågan om det var planerat eller stundens ingi...</td>\n",
       "    </tr>\n",
       "    <tr>\n",
       "      <th>6217</th>\n",
       "      <td>5734</td>\n",
       "      <td>NaN</td>\n",
       "      <td>2</td>\n",
       "      <td>samt ljuger de för allmänheten svensk polis i ...</td>\n",
       "    </tr>\n",
       "    <tr>\n",
       "      <th>6220</th>\n",
       "      <td>5191</td>\n",
       "      <td>NaN</td>\n",
       "      <td>2</td>\n",
       "      <td>ok experten jag demolerar nu också mitt fantas...</td>\n",
       "    </tr>\n",
       "    <tr>\n",
       "      <th>6221</th>\n",
       "      <td>5226</td>\n",
       "      <td>NaN</td>\n",
       "      <td>2</td>\n",
       "      <td>han ska inte vara med här punkt</td>\n",
       "    </tr>\n",
       "    <tr>\n",
       "      <th>6222</th>\n",
       "      <td>5390</td>\n",
       "      <td>NaN</td>\n",
       "      <td>2</td>\n",
       "      <td>för man beter sig ganska normalt efter tiden m...</td>\n",
       "    </tr>\n",
       "  </tbody>\n",
       "</table>\n",
       "<p>1710 rows × 4 columns</p>\n",
       "</div>"
      ],
      "text/plain": [
       "      Unnamed: 0     n  Labels  \\\n",
       "5           5789   NaN       2   \n",
       "7           5965   NaN       2   \n",
       "9           4943   NaN       2   \n",
       "19          5491   NaN       2   \n",
       "24           132  62.0       2   \n",
       "...          ...   ...     ...   \n",
       "6216         466  59.0       2   \n",
       "6217        5734   NaN       2   \n",
       "6220        5191   NaN       2   \n",
       "6221        5226   NaN       2   \n",
       "6222        5390   NaN       2   \n",
       "\n",
       "                                           comment_text  \n",
       "5     99 Och stadsplaneringen verkar sega efter rejä...  \n",
       "7     png mercedes benz på chaasinr wdbl meter i tjä...  \n",
       "9     du kan citera mig i framtiden eftersom det kom...  \n",
       "19    fjäder i hatten för Sverige det här ska de int...  \n",
       "24    hur kan man tro att det varit en olyckshändels...  \n",
       "...                                                 ...  \n",
       "6216  frågan om det var planerat eller stundens ingi...  \n",
       "6217  samt ljuger de för allmänheten svensk polis i ...  \n",
       "6220  ok experten jag demolerar nu också mitt fantas...  \n",
       "6221                    han ska inte vara med här punkt  \n",
       "6222  för man beter sig ganska normalt efter tiden m...  \n",
       "\n",
       "[1710 rows x 4 columns]"
      ]
     },
     "execution_count": 7,
     "metadata": {},
     "output_type": "execute_result"
    }
   ],
   "source": [
    "df2"
   ]
  },
  {
   "cell_type": "code",
   "execution_count": 8,
   "id": "0ae3ec7f",
   "metadata": {},
   "outputs": [
    {
     "data": {
      "text/html": [
       "<div>\n",
       "<style scoped>\n",
       "    .dataframe tbody tr th:only-of-type {\n",
       "        vertical-align: middle;\n",
       "    }\n",
       "\n",
       "    .dataframe tbody tr th {\n",
       "        vertical-align: top;\n",
       "    }\n",
       "\n",
       "    .dataframe thead th {\n",
       "        text-align: right;\n",
       "    }\n",
       "</style>\n",
       "<table border=\"1\" class=\"dataframe\">\n",
       "  <thead>\n",
       "    <tr style=\"text-align: right;\">\n",
       "      <th></th>\n",
       "      <th>n</th>\n",
       "      <th>Labels</th>\n",
       "      <th>comment_text</th>\n",
       "    </tr>\n",
       "  </thead>\n",
       "  <tbody>\n",
       "    <tr>\n",
       "      <th>0</th>\n",
       "      <td>25.0</td>\n",
       "      <td>0</td>\n",
       "      <td>kan ju också varit så att det var riksdagen so...</td>\n",
       "    </tr>\n",
       "    <tr>\n",
       "      <th>1</th>\n",
       "      <td>12.0</td>\n",
       "      <td>0</td>\n",
       "      <td>sverige har haft många terrordåd innan  bland ...</td>\n",
       "    </tr>\n",
       "    <tr>\n",
       "      <th>2</th>\n",
       "      <td>31.0</td>\n",
       "      <td>1</td>\n",
       "      <td>fattar inte varför folk hänger upp sig på att ...</td>\n",
       "    </tr>\n",
       "    <tr>\n",
       "      <th>3</th>\n",
       "      <td>16.0</td>\n",
       "      <td>0</td>\n",
       "      <td>rapporterade avpixlat om för någon timme sedan...</td>\n",
       "    </tr>\n",
       "    <tr>\n",
       "      <th>4</th>\n",
       "      <td>24.0</td>\n",
       "      <td>0</td>\n",
       "      <td>hemskt det som hänt  undra om det kommer en an...</td>\n",
       "    </tr>\n",
       "    <tr>\n",
       "      <th>...</th>\n",
       "      <td>...</td>\n",
       "      <td>...</td>\n",
       "      <td>...</td>\n",
       "    </tr>\n",
       "    <tr>\n",
       "      <th>8655</th>\n",
       "      <td>NaN</td>\n",
       "      <td>1</td>\n",
       "      <td>Det har bara kommit från avpixlat jag har inte...</td>\n",
       "    </tr>\n",
       "    <tr>\n",
       "      <th>8656</th>\n",
       "      <td>43.0</td>\n",
       "      <td>0</td>\n",
       "      <td>största anledningen till det lyckade gripet är...</td>\n",
       "    </tr>\n",
       "    <tr>\n",
       "      <th>8657</th>\n",
       "      <td>NaN</td>\n",
       "      <td>1</td>\n",
       "      <td>vad fan hjälper det han fick god tid på sig at...</td>\n",
       "    </tr>\n",
       "    <tr>\n",
       "      <th>8658</th>\n",
       "      <td>24.0</td>\n",
       "      <td>0</td>\n",
       "      <td>hade lika gärna kunnat vara en själv som drabb...</td>\n",
       "    </tr>\n",
       "    <tr>\n",
       "      <th>8659</th>\n",
       "      <td>NaN</td>\n",
       "      <td>1</td>\n",
       "      <td>även p rapporterade om skottlossning men rappo...</td>\n",
       "    </tr>\n",
       "  </tbody>\n",
       "</table>\n",
       "<p>8660 rows × 3 columns</p>\n",
       "</div>"
      ],
      "text/plain": [
       "         n  Labels                                       comment_text\n",
       "0     25.0       0  kan ju också varit så att det var riksdagen so...\n",
       "1     12.0       0  sverige har haft många terrordåd innan  bland ...\n",
       "2     31.0       1  fattar inte varför folk hänger upp sig på att ...\n",
       "3     16.0       0  rapporterade avpixlat om för någon timme sedan...\n",
       "4     24.0       0  hemskt det som hänt  undra om det kommer en an...\n",
       "...    ...     ...                                                ...\n",
       "8655   NaN       1  Det har bara kommit från avpixlat jag har inte...\n",
       "8656  43.0       0  största anledningen till det lyckade gripet är...\n",
       "8657   NaN       1  vad fan hjälper det han fick god tid på sig at...\n",
       "8658  24.0       0  hade lika gärna kunnat vara en själv som drabb...\n",
       "8659   NaN       1  även p rapporterade om skottlossning men rappo...\n",
       "\n",
       "[8660 rows x 3 columns]"
      ]
     },
     "execution_count": 8,
     "metadata": {},
     "output_type": "execute_result"
    }
   ],
   "source": [
    "df1"
   ]
  },
  {
   "cell_type": "code",
   "execution_count": 15,
   "id": "4e278cf4",
   "metadata": {},
   "outputs": [],
   "source": [
    "frames = [df1, df2]\n",
    "result = pd.concat(frames)"
   ]
  },
  {
   "cell_type": "code",
   "execution_count": 16,
   "id": "dd388ea5",
   "metadata": {},
   "outputs": [
    {
     "name": "stderr",
     "output_type": "stream",
     "text": [
      "C:\\Users\\anton\\AppData\\Local\\Temp/ipykernel_18916/3399838942.py:1: FutureWarning: In a future version of pandas all arguments of DataFrame.drop except for the argument 'labels' will be keyword-only.\n",
      "  result = result.drop('Unnamed: 0', 1)\n"
     ]
    }
   ],
   "source": [
    "result = result.drop('Unnamed: 0', 1)"
   ]
  },
  {
   "cell_type": "code",
   "execution_count": 17,
   "id": "3623824d",
   "metadata": {},
   "outputs": [],
   "source": [
    "resultC = pd.DataFrame(result)"
   ]
  },
  {
   "cell_type": "code",
   "execution_count": 18,
   "id": "782b5f90",
   "metadata": {},
   "outputs": [
    {
     "data": {
      "text/html": [
       "<div>\n",
       "<style scoped>\n",
       "    .dataframe tbody tr th:only-of-type {\n",
       "        vertical-align: middle;\n",
       "    }\n",
       "\n",
       "    .dataframe tbody tr th {\n",
       "        vertical-align: top;\n",
       "    }\n",
       "\n",
       "    .dataframe thead th {\n",
       "        text-align: right;\n",
       "    }\n",
       "</style>\n",
       "<table border=\"1\" class=\"dataframe\">\n",
       "  <thead>\n",
       "    <tr style=\"text-align: right;\">\n",
       "      <th></th>\n",
       "      <th>n</th>\n",
       "      <th>Labels</th>\n",
       "      <th>comment_text</th>\n",
       "    </tr>\n",
       "  </thead>\n",
       "  <tbody>\n",
       "    <tr>\n",
       "      <th>0</th>\n",
       "      <td>25.0</td>\n",
       "      <td>0</td>\n",
       "      <td>kan ju också varit så att det var riksdagen so...</td>\n",
       "    </tr>\n",
       "    <tr>\n",
       "      <th>1</th>\n",
       "      <td>12.0</td>\n",
       "      <td>0</td>\n",
       "      <td>sverige har haft många terrordåd innan  bland ...</td>\n",
       "    </tr>\n",
       "    <tr>\n",
       "      <th>2</th>\n",
       "      <td>31.0</td>\n",
       "      <td>1</td>\n",
       "      <td>fattar inte varför folk hänger upp sig på att ...</td>\n",
       "    </tr>\n",
       "    <tr>\n",
       "      <th>3</th>\n",
       "      <td>16.0</td>\n",
       "      <td>0</td>\n",
       "      <td>rapporterade avpixlat om för någon timme sedan...</td>\n",
       "    </tr>\n",
       "    <tr>\n",
       "      <th>4</th>\n",
       "      <td>24.0</td>\n",
       "      <td>0</td>\n",
       "      <td>hemskt det som hänt  undra om det kommer en an...</td>\n",
       "    </tr>\n",
       "    <tr>\n",
       "      <th>...</th>\n",
       "      <td>...</td>\n",
       "      <td>...</td>\n",
       "      <td>...</td>\n",
       "    </tr>\n",
       "    <tr>\n",
       "      <th>6216</th>\n",
       "      <td>59.0</td>\n",
       "      <td>2</td>\n",
       "      <td>frågan om det var planerat eller stundens ingi...</td>\n",
       "    </tr>\n",
       "    <tr>\n",
       "      <th>6217</th>\n",
       "      <td>NaN</td>\n",
       "      <td>2</td>\n",
       "      <td>samt ljuger de för allmänheten svensk polis i ...</td>\n",
       "    </tr>\n",
       "    <tr>\n",
       "      <th>6220</th>\n",
       "      <td>NaN</td>\n",
       "      <td>2</td>\n",
       "      <td>ok experten jag demolerar nu också mitt fantas...</td>\n",
       "    </tr>\n",
       "    <tr>\n",
       "      <th>6221</th>\n",
       "      <td>NaN</td>\n",
       "      <td>2</td>\n",
       "      <td>han ska inte vara med här punkt</td>\n",
       "    </tr>\n",
       "    <tr>\n",
       "      <th>6222</th>\n",
       "      <td>NaN</td>\n",
       "      <td>2</td>\n",
       "      <td>för man beter sig ganska normalt efter tiden m...</td>\n",
       "    </tr>\n",
       "  </tbody>\n",
       "</table>\n",
       "<p>10370 rows × 3 columns</p>\n",
       "</div>"
      ],
      "text/plain": [
       "         n  Labels                                       comment_text\n",
       "0     25.0       0  kan ju också varit så att det var riksdagen so...\n",
       "1     12.0       0  sverige har haft många terrordåd innan  bland ...\n",
       "2     31.0       1  fattar inte varför folk hänger upp sig på att ...\n",
       "3     16.0       0  rapporterade avpixlat om för någon timme sedan...\n",
       "4     24.0       0  hemskt det som hänt  undra om det kommer en an...\n",
       "...    ...     ...                                                ...\n",
       "6216  59.0       2  frågan om det var planerat eller stundens ingi...\n",
       "6217   NaN       2  samt ljuger de för allmänheten svensk polis i ...\n",
       "6220   NaN       2  ok experten jag demolerar nu också mitt fantas...\n",
       "6221   NaN       2                    han ska inte vara med här punkt\n",
       "6222   NaN       2  för man beter sig ganska normalt efter tiden m...\n",
       "\n",
       "[10370 rows x 3 columns]"
      ]
     },
     "execution_count": 18,
     "metadata": {},
     "output_type": "execute_result"
    }
   ],
   "source": [
    "resultC"
   ]
  },
  {
   "cell_type": "code",
   "execution_count": 21,
   "id": "03af94a7",
   "metadata": {},
   "outputs": [],
   "source": [
    "resultC[\"Labels\"].replace({0: \"lab_not_toxic\", 1: \"lab_toxic\", 2: \"lab_undetermined\"}, inplace=True)"
   ]
  },
  {
   "cell_type": "code",
   "execution_count": 22,
   "id": "63321cd8",
   "metadata": {},
   "outputs": [
    {
     "data": {
      "text/html": [
       "<div>\n",
       "<style scoped>\n",
       "    .dataframe tbody tr th:only-of-type {\n",
       "        vertical-align: middle;\n",
       "    }\n",
       "\n",
       "    .dataframe tbody tr th {\n",
       "        vertical-align: top;\n",
       "    }\n",
       "\n",
       "    .dataframe thead th {\n",
       "        text-align: right;\n",
       "    }\n",
       "</style>\n",
       "<table border=\"1\" class=\"dataframe\">\n",
       "  <thead>\n",
       "    <tr style=\"text-align: right;\">\n",
       "      <th></th>\n",
       "      <th>n</th>\n",
       "      <th>Labels</th>\n",
       "      <th>comment_text</th>\n",
       "    </tr>\n",
       "  </thead>\n",
       "  <tbody>\n",
       "    <tr>\n",
       "      <th>0</th>\n",
       "      <td>25.0</td>\n",
       "      <td>lab_not_toxic</td>\n",
       "      <td>kan ju också varit så att det var riksdagen so...</td>\n",
       "    </tr>\n",
       "    <tr>\n",
       "      <th>1</th>\n",
       "      <td>12.0</td>\n",
       "      <td>lab_not_toxic</td>\n",
       "      <td>sverige har haft många terrordåd innan  bland ...</td>\n",
       "    </tr>\n",
       "    <tr>\n",
       "      <th>2</th>\n",
       "      <td>31.0</td>\n",
       "      <td>lab_toxic</td>\n",
       "      <td>fattar inte varför folk hänger upp sig på att ...</td>\n",
       "    </tr>\n",
       "    <tr>\n",
       "      <th>3</th>\n",
       "      <td>16.0</td>\n",
       "      <td>lab_not_toxic</td>\n",
       "      <td>rapporterade avpixlat om för någon timme sedan...</td>\n",
       "    </tr>\n",
       "    <tr>\n",
       "      <th>4</th>\n",
       "      <td>24.0</td>\n",
       "      <td>lab_not_toxic</td>\n",
       "      <td>hemskt det som hänt  undra om det kommer en an...</td>\n",
       "    </tr>\n",
       "    <tr>\n",
       "      <th>...</th>\n",
       "      <td>...</td>\n",
       "      <td>...</td>\n",
       "      <td>...</td>\n",
       "    </tr>\n",
       "    <tr>\n",
       "      <th>6216</th>\n",
       "      <td>59.0</td>\n",
       "      <td>lab_undetermined</td>\n",
       "      <td>frågan om det var planerat eller stundens ingi...</td>\n",
       "    </tr>\n",
       "    <tr>\n",
       "      <th>6217</th>\n",
       "      <td>NaN</td>\n",
       "      <td>lab_undetermined</td>\n",
       "      <td>samt ljuger de för allmänheten svensk polis i ...</td>\n",
       "    </tr>\n",
       "    <tr>\n",
       "      <th>6220</th>\n",
       "      <td>NaN</td>\n",
       "      <td>lab_undetermined</td>\n",
       "      <td>ok experten jag demolerar nu också mitt fantas...</td>\n",
       "    </tr>\n",
       "    <tr>\n",
       "      <th>6221</th>\n",
       "      <td>NaN</td>\n",
       "      <td>lab_undetermined</td>\n",
       "      <td>han ska inte vara med här punkt</td>\n",
       "    </tr>\n",
       "    <tr>\n",
       "      <th>6222</th>\n",
       "      <td>NaN</td>\n",
       "      <td>lab_undetermined</td>\n",
       "      <td>för man beter sig ganska normalt efter tiden m...</td>\n",
       "    </tr>\n",
       "  </tbody>\n",
       "</table>\n",
       "<p>10370 rows × 3 columns</p>\n",
       "</div>"
      ],
      "text/plain": [
       "         n            Labels  \\\n",
       "0     25.0     lab_not_toxic   \n",
       "1     12.0     lab_not_toxic   \n",
       "2     31.0         lab_toxic   \n",
       "3     16.0     lab_not_toxic   \n",
       "4     24.0     lab_not_toxic   \n",
       "...    ...               ...   \n",
       "6216  59.0  lab_undetermined   \n",
       "6217   NaN  lab_undetermined   \n",
       "6220   NaN  lab_undetermined   \n",
       "6221   NaN  lab_undetermined   \n",
       "6222   NaN  lab_undetermined   \n",
       "\n",
       "                                           comment_text  \n",
       "0     kan ju också varit så att det var riksdagen so...  \n",
       "1     sverige har haft många terrordåd innan  bland ...  \n",
       "2     fattar inte varför folk hänger upp sig på att ...  \n",
       "3     rapporterade avpixlat om för någon timme sedan...  \n",
       "4     hemskt det som hänt  undra om det kommer en an...  \n",
       "...                                                 ...  \n",
       "6216  frågan om det var planerat eller stundens ingi...  \n",
       "6217  samt ljuger de för allmänheten svensk polis i ...  \n",
       "6220  ok experten jag demolerar nu också mitt fantas...  \n",
       "6221                    han ska inte vara med här punkt  \n",
       "6222  för man beter sig ganska normalt efter tiden m...  \n",
       "\n",
       "[10370 rows x 3 columns]"
      ]
     },
     "execution_count": 22,
     "metadata": {},
     "output_type": "execute_result"
    }
   ],
   "source": [
    "resultC"
   ]
  },
  {
   "cell_type": "code",
   "execution_count": 23,
   "id": "13708e51",
   "metadata": {},
   "outputs": [
    {
     "data": {
      "text/plain": [
       "<AxesSubplot:>"
      ]
     },
     "execution_count": 23,
     "metadata": {},
     "output_type": "execute_result"
    },
    {
     "data": {
      "image/png": "[encoded data removed]",
      "text/plain": [
       "<Figure size 432x288 with 1 Axes>"
      ]
     },
     "metadata": {
      "needs_background": "light"
     },
     "output_type": "display_data"
    }
   ],
   "source": [
    "resultC['Labels'].value_counts().plot(kind='bar')"
   ]
  },
  {
   "cell_type": "code",
   "execution_count": 105,
   "id": "58786d88",
   "metadata": {},
   "outputs": [],
   "source": [
    "df = pd.read_csv(\"Annotation-data-test.csv\")"
   ]
  },
  {
   "cell_type": "code",
   "execution_count": 106,
   "id": "bc0fd92c",
   "metadata": {},
   "outputs": [
    {
     "name": "stderr",
     "output_type": "stream",
     "text": [
      "C:\\Users\\anton\\AppData\\Local\\Temp/ipykernel_27828/3812631323.py:1: FutureWarning: In a future version of pandas all arguments of DataFrame.drop except for the argument 'labels' will be keyword-only.\n",
      "  df = df.drop('Unnamed: 0', 1)\n"
     ]
    }
   ],
   "source": [
    "df = df.drop('Unnamed: 0', 1)"
   ]
  },
  {
   "cell_type": "code",
   "execution_count": 107,
   "id": "67e1f188",
   "metadata": {},
   "outputs": [],
   "source": [
    "cols = df.iloc[:, 9:12]"
   ]
  },
  {
   "cell_type": "code",
   "execution_count": 108,
   "id": "4dd4c79c",
   "metadata": {},
   "outputs": [],
   "source": [
    "def get_labels(row):\n",
    "    for col in cols:\n",
    "        if row[col] == 1:\n",
    "            return col\n",
    "\n",
    "df['Labels'] = df.apply(get_labels, axis=1)"
   ]
  },
  {
   "cell_type": "code",
   "execution_count": 109,
   "id": "3a8aad95",
   "metadata": {},
   "outputs": [],
   "source": [
    "df = df.drop(['id', 'post.nr', 'date', 'phaseType', 'Machine_Translation', 'toxicity', 'severe_toxicity', 'lab_toxic', 'lab_undetermined', 'lab_not_toxic'], axis = 1)"
   ]
  },
  {
   "cell_type": "code",
   "execution_count": 110,
   "id": "0cd868a0",
   "metadata": {},
   "outputs": [],
   "source": [
    "df['comment_text'] = df['comment.text']"
   ]
  },
  {
   "cell_type": "code",
   "execution_count": 111,
   "id": "226b1d51",
   "metadata": {},
   "outputs": [],
   "source": [
    "df = df.drop(['comment.text'], axis = 1)"
   ]
  },
  {
   "cell_type": "code",
   "execution_count": 112,
   "id": "aa9167ab",
   "metadata": {},
   "outputs": [],
   "source": [
    "df = df.dropna()"
   ]
  },
  {
   "cell_type": "code",
   "execution_count": 113,
   "id": "6d6a0e97",
   "metadata": {},
   "outputs": [],
   "source": [
    "le = LabelEncoder()\n",
    "df['Labels'] = le.fit_transform(df['Labels'])"
   ]
  },
  {
   "cell_type": "code",
   "execution_count": 114,
   "id": "8e0852b3",
   "metadata": {},
   "outputs": [
    {
     "data": {
      "text/plain": [
       "<AxesSubplot:>"
      ]
     },
     "execution_count": 114,
     "metadata": {},
     "output_type": "execute_result"
    },
    {
     "data": {
      "image/png": "[encoded data removed]",
      "text/plain": [
       "<Figure size 432x288 with 1 Axes>"
      ]
     },
     "metadata": {
      "needs_background": "light"
     },
     "output_type": "display_data"
    }
   ],
   "source": [
    "df['Labels'].value_counts().plot(kind='bar')"
   ]
  },
  {
   "cell_type": "code",
   "execution_count": 115,
   "id": "21debe9c",
   "metadata": {},
   "outputs": [],
   "source": [
    "df_for_eval = df.sample(540)"
   ]
  },
  {
   "cell_type": "code",
   "execution_count": 116,
   "id": "5ff05429",
   "metadata": {},
   "outputs": [
    {
     "data": {
      "text/plain": [
       "<AxesSubplot:>"
      ]
     },
     "execution_count": 116,
     "metadata": {},
     "output_type": "execute_result"
    },
    {
     "data": {
      "image/png": "[encoded data removed]",
      "text/plain": [
       "<Figure size 432x288 with 1 Axes>"
      ]
     },
     "metadata": {
      "needs_background": "light"
     },
     "output_type": "display_data"
    }
   ],
   "source": [
    "df_for_eval['Labels'].value_counts().plot(kind='bar')"
   ]
  },
  {
   "cell_type": "code",
   "execution_count": 117,
   "id": "d98b0777",
   "metadata": {},
   "outputs": [
    {
     "data": {
      "text/html": [
       "<div>\n",
       "<style scoped>\n",
       "    .dataframe tbody tr th:only-of-type {\n",
       "        vertical-align: middle;\n",
       "    }\n",
       "\n",
       "    .dataframe tbody tr th {\n",
       "        vertical-align: top;\n",
       "    }\n",
       "\n",
       "    .dataframe thead th {\n",
       "        text-align: right;\n",
       "    }\n",
       "</style>\n",
       "<table border=\"1\" class=\"dataframe\">\n",
       "  <thead>\n",
       "    <tr style=\"text-align: right;\">\n",
       "      <th></th>\n",
       "      <th>n</th>\n",
       "      <th>Labels</th>\n",
       "      <th>comment_text</th>\n",
       "    </tr>\n",
       "  </thead>\n",
       "  <tbody>\n",
       "    <tr>\n",
       "      <th>1494</th>\n",
       "      <td>11</td>\n",
       "      <td>0</td>\n",
       "      <td>här ses lastbilen susa förbi filmat från överv...</td>\n",
       "    </tr>\n",
       "    <tr>\n",
       "      <th>960</th>\n",
       "      <td>35</td>\n",
       "      <td>0</td>\n",
       "      <td>spendrups berättar att chauffören börjat lasta...</td>\n",
       "    </tr>\n",
       "    <tr>\n",
       "      <th>961</th>\n",
       "      <td>9</td>\n",
       "      <td>0</td>\n",
       "      <td>finns lite bilder på offer i kommentarerna  fy...</td>\n",
       "    </tr>\n",
       "    <tr>\n",
       "      <th>1660</th>\n",
       "      <td>44</td>\n",
       "      <td>0</td>\n",
       "      <td>angående videoklippet på folk som flyr     tit...</td>\n",
       "    </tr>\n",
       "    <tr>\n",
       "      <th>4383</th>\n",
       "      <td>10</td>\n",
       "      <td>0</td>\n",
       "      <td>fast det gör ju inte du heller  i ditt inlägg</td>\n",
       "    </tr>\n",
       "    <tr>\n",
       "      <th>...</th>\n",
       "      <td>...</td>\n",
       "      <td>...</td>\n",
       "      <td>...</td>\n",
       "    </tr>\n",
       "    <tr>\n",
       "      <th>671</th>\n",
       "      <td>5</td>\n",
       "      <td>0</td>\n",
       "      <td>bild på den efterlyste mannen</td>\n",
       "    </tr>\n",
       "    <tr>\n",
       "      <th>1634</th>\n",
       "      <td>45</td>\n",
       "      <td>0</td>\n",
       "      <td>man gör en  på riktigt  personen tror alltså a...</td>\n",
       "    </tr>\n",
       "    <tr>\n",
       "      <th>4318</th>\n",
       "      <td>30</td>\n",
       "      <td>0</td>\n",
       "      <td>nyss spärrade man av e an norrut vid påfartern...</td>\n",
       "    </tr>\n",
       "    <tr>\n",
       "      <th>2278</th>\n",
       "      <td>5</td>\n",
       "      <td>0</td>\n",
       "      <td>blir ahmedov med våra bokstäver</td>\n",
       "    </tr>\n",
       "    <tr>\n",
       "      <th>3872</th>\n",
       "      <td>14</td>\n",
       "      <td>0</td>\n",
       "      <td>enligt aftonbladet erkände uzbeken i samband m...</td>\n",
       "    </tr>\n",
       "  </tbody>\n",
       "</table>\n",
       "<p>540 rows × 3 columns</p>\n",
       "</div>"
      ],
      "text/plain": [
       "       n  Labels                                       comment_text\n",
       "1494  11       0  här ses lastbilen susa förbi filmat från överv...\n",
       "960   35       0  spendrups berättar att chauffören börjat lasta...\n",
       "961    9       0  finns lite bilder på offer i kommentarerna  fy...\n",
       "1660  44       0  angående videoklippet på folk som flyr     tit...\n",
       "4383  10       0      fast det gör ju inte du heller  i ditt inlägg\n",
       "...   ..     ...                                                ...\n",
       "671    5       0                      bild på den efterlyste mannen\n",
       "1634  45       0  man gör en  på riktigt  personen tror alltså a...\n",
       "4318  30       0  nyss spärrade man av e an norrut vid påfartern...\n",
       "2278   5       0                    blir ahmedov med våra bokstäver\n",
       "3872  14       0  enligt aftonbladet erkände uzbeken i samband m...\n",
       "\n",
       "[540 rows x 3 columns]"
      ]
     },
     "execution_count": 117,
     "metadata": {},
     "output_type": "execute_result"
    }
   ],
   "source": [
    "df_for_eval"
   ]
  },
  {
   "cell_type": "code",
   "execution_count": 118,
   "id": "9894105a",
   "metadata": {},
   "outputs": [],
   "source": [
    "result = result.drop(df_for_eval.index)"
   ]
  },
  {
   "cell_type": "code",
   "execution_count": 119,
   "id": "011d94e1",
   "metadata": {},
   "outputs": [
    {
     "data": {
      "text/html": [
       "<div>\n",
       "<style scoped>\n",
       "    .dataframe tbody tr th:only-of-type {\n",
       "        vertical-align: middle;\n",
       "    }\n",
       "\n",
       "    .dataframe tbody tr th {\n",
       "        vertical-align: top;\n",
       "    }\n",
       "\n",
       "    .dataframe thead th {\n",
       "        text-align: right;\n",
       "    }\n",
       "</style>\n",
       "<table border=\"1\" class=\"dataframe\">\n",
       "  <thead>\n",
       "    <tr style=\"text-align: right;\">\n",
       "      <th></th>\n",
       "      <th>n</th>\n",
       "      <th>Labels</th>\n",
       "      <th>comment_text</th>\n",
       "    </tr>\n",
       "  </thead>\n",
       "  <tbody>\n",
       "    <tr>\n",
       "      <th>3</th>\n",
       "      <td>16.0</td>\n",
       "      <td>0</td>\n",
       "      <td>rapporterade avpixlat om för någon timme sedan...</td>\n",
       "    </tr>\n",
       "    <tr>\n",
       "      <th>4</th>\n",
       "      <td>24.0</td>\n",
       "      <td>0</td>\n",
       "      <td>hemskt det som hänt  undra om det kommer en an...</td>\n",
       "    </tr>\n",
       "    <tr>\n",
       "      <th>5</th>\n",
       "      <td>55.0</td>\n",
       "      <td>0</td>\n",
       "      <td>det finns redan visst skydd på gatan  bl a  be...</td>\n",
       "    </tr>\n",
       "    <tr>\n",
       "      <th>6</th>\n",
       "      <td>34.0</td>\n",
       "      <td>0</td>\n",
       "      <td>det är helt omöjligt att köra med lastbil på d...</td>\n",
       "    </tr>\n",
       "    <tr>\n",
       "      <th>7</th>\n",
       "      <td>21.0</td>\n",
       "      <td>1</td>\n",
       "      <td>jimmie åkesson hade en längre utläggning i svt...</td>\n",
       "    </tr>\n",
       "    <tr>\n",
       "      <th>...</th>\n",
       "      <td>...</td>\n",
       "      <td>...</td>\n",
       "      <td>...</td>\n",
       "    </tr>\n",
       "    <tr>\n",
       "      <th>6216</th>\n",
       "      <td>59.0</td>\n",
       "      <td>2</td>\n",
       "      <td>frågan om det var planerat eller stundens ingi...</td>\n",
       "    </tr>\n",
       "    <tr>\n",
       "      <th>6217</th>\n",
       "      <td>NaN</td>\n",
       "      <td>2</td>\n",
       "      <td>samt ljuger de för allmänheten svensk polis i ...</td>\n",
       "    </tr>\n",
       "    <tr>\n",
       "      <th>6220</th>\n",
       "      <td>NaN</td>\n",
       "      <td>2</td>\n",
       "      <td>ok experten jag demolerar nu också mitt fantas...</td>\n",
       "    </tr>\n",
       "    <tr>\n",
       "      <th>6221</th>\n",
       "      <td>NaN</td>\n",
       "      <td>2</td>\n",
       "      <td>han ska inte vara med här punkt</td>\n",
       "    </tr>\n",
       "    <tr>\n",
       "      <th>6222</th>\n",
       "      <td>NaN</td>\n",
       "      <td>2</td>\n",
       "      <td>för man beter sig ganska normalt efter tiden m...</td>\n",
       "    </tr>\n",
       "  </tbody>\n",
       "</table>\n",
       "<p>9685 rows × 3 columns</p>\n",
       "</div>"
      ],
      "text/plain": [
       "         n  Labels                                       comment_text\n",
       "3     16.0       0  rapporterade avpixlat om för någon timme sedan...\n",
       "4     24.0       0  hemskt det som hänt  undra om det kommer en an...\n",
       "5     55.0       0  det finns redan visst skydd på gatan  bl a  be...\n",
       "6     34.0       0  det är helt omöjligt att köra med lastbil på d...\n",
       "7     21.0       1  jimmie åkesson hade en längre utläggning i svt...\n",
       "...    ...     ...                                                ...\n",
       "6216  59.0       2  frågan om det var planerat eller stundens ingi...\n",
       "6217   NaN       2  samt ljuger de för allmänheten svensk polis i ...\n",
       "6220   NaN       2  ok experten jag demolerar nu också mitt fantas...\n",
       "6221   NaN       2                    han ska inte vara med här punkt\n",
       "6222   NaN       2  för man beter sig ganska normalt efter tiden m...\n",
       "\n",
       "[9685 rows x 3 columns]"
      ]
     },
     "execution_count": 119,
     "metadata": {},
     "output_type": "execute_result"
    }
   ],
   "source": [
    "result"
   ]
  },
  {
   "cell_type": "code",
   "execution_count": 120,
   "id": "97537559",
   "metadata": {},
   "outputs": [],
   "source": [
    "df_for_eval.to_csv('df-for-eval-with-UD-final.csv', index = True, encoding = 'utf-8-sig')"
   ]
  },
  {
   "cell_type": "code",
   "execution_count": 121,
   "id": "99a8e8f6",
   "metadata": {},
   "outputs": [],
   "source": [
    "result.to_csv('df-for-bert-with-UD-final.csv', index = True, encoding = 'utf-8-sig')"
   ]
  }
 ],
 "metadata": {
  "kernelspec": {
   "display_name": "Python 3 (ipykernel)",
   "language": "python",
   "name": "python3"
  },
  "language_info": {
   "codemirror_mode": {
    "name": "ipython",
    "version": 3
   },
   "file_extension": ".py",
   "mimetype": "text/x-python",
   "name": "python",
   "nbconvert_exporter": "python",
   "pygments_lexer": "ipython3",
   "version": "3.8.8"
  }
 },
 "nbformat": 4,
 "nbformat_minor": 5
}
